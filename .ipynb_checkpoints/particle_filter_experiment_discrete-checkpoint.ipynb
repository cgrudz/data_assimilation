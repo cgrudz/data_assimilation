{
 "cells": [
  {
   "cell_type": "code",
   "execution_count": 1,
   "metadata": {
    "collapsed": false
   },
   "outputs": [],
   "source": [
    "import numpy as np\n",
    "import matplotlib.pyplot as plt\n",
    "import matplotlib.cm as cm\n",
    "import pickle\n",
    "import json\n",
    "from ikeda_V import ikeda as model\n",
    "from scipy.integrate import odeint\n",
    "from bootstrap_unbiased_discrete import bootstrap as PF\n",
    "from generate_observations_discrete import gen_obs"
   ]
  },
  {
   "cell_type": "code",
   "execution_count": 2,
   "metadata": {
    "collapsed": false
   },
   "outputs": [],
   "source": [
    "## System Parameters\n",
    "\n",
    "# experiment name\n",
    "name ='test_run'\n",
    "name = name + '.p'\n",
    "save_file = open(name,'wb')\n",
    "\n",
    "# state dimension\n",
    "state_dim = 2\n",
    "\n",
    "# observation dimension\n",
    "obs_dim = 2\n",
    "\n",
    "# observation operator\n",
    "H = np.eye(state_dim)\n",
    "\n",
    "# Define the number of particles in the ensemble\n",
    "particle_number = 10000\n",
    "\n",
    "# Optional spin up step\n",
    "spin = False\n",
    "if spin:\n",
    "    # Spin time\n",
    "    spin_end = 1000\n",
    "\n",
    "# Obs Err variance (% of climate variance) \n",
    "obs_var = 0.01\n",
    "\n",
    "# prior covariance\n",
    "p_cov = np.eye(state_dim)*.1\n",
    "\n",
    "# Analysis performed after tanl steps\n",
    "tanl = 1\n",
    "\n",
    "# Number of Analyses (after the analysis at time zero)\n",
    "nanl = 250\n",
    "\n",
    "# Experiment length defined\n",
    "exp_len = tanl*nanl\n",
    "\n",
    "# Define the initial condition for the truth\n",
    "truth = np.array([.5,0])"
   ]
  },
  {
   "cell_type": "code",
   "execution_count": 3,
   "metadata": {
    "collapsed": false
   },
   "outputs": [],
   "source": [
    "## generate first prior and observations\n",
    "\n",
    "# optionally spin up the trajectory for the truth\n",
    "# and produce the initial prior for this state\n",
    "\n",
    "if spin:\n",
    "    spun = model(np.ones(state_dim),spin_end,1)\n",
    "    spun = spun.squeeze()\n",
    "    truth = spun[:,-1]\n",
    "\n",
    "# define the prior by Gaussian with mean at the initial true state and specified covariance\n",
    "P = np.eye(2)*.1\n",
    "prior = np.random.multivariate_normal(truth,P,particle_number)\n",
    "    \n",
    "# propagate the truth for the length of the model, and return this trajector and the\n",
    "# noisy observations of the state\n",
    "[truth_traj,obs,Q] = gen_obs(model,truth,H,exp_len,nanl,tanl,obs_var)\n",
    "\n"
   ]
  },
  {
   "cell_type": "code",
   "execution_count": 4,
   "metadata": {
    "collapsed": false
   },
   "outputs": [],
   "source": [
    "## particle filter step\n",
    "\n",
    "pdf_series = PF(model,state_dim,prior,particle_number,exp_len,nanl,tanl,obs,Q)"
   ]
  },
  {
   "cell_type": "code",
   "execution_count": 5,
   "metadata": {
    "collapsed": false
   },
   "outputs": [],
   "source": [
    "A = 'A_'\n",
    "keys = len(pdf_series.keys())\n",
    "for i in range(keys):\n",
    "    key = A + str(i)\n",
    "    temp  = plt.figure()\n",
    "    cloud = pdf_series[key]['prior']\n",
    "    # compute the mean of the prior\n",
    "    weights = pdf_series[key]['prior_weight']\n",
    "    remainder = len(weights)\n",
    "    plt.title('Prior: '+str(i)+' Particles: '+str(remainder))\n",
    "    mean = np.sum(cloud.transpose()*weights,1)\n",
    "    \n",
    "    plt.scatter(cloud[:,0],cloud[:,1],c=weights)\n",
    "    plt.plot(obs[i,0],obs[i,1],'rs')\n",
    "    plt.plot(mean[0],mean[1],'ys')\n",
    "    plt.axis([-1,2,-2,2])\n",
    "    plt.savefig('./figures/'+key+'a.png')\n",
    "    plt.close(temp)\n",
    "    \n",
    "    temp  = plt.figure()\n",
    "    cloud = pdf_series[key]['post']\n",
    "    # compute the mean of the posterior\n",
    "    weights = pdf_series[key]['post_weight']\n",
    "    remainder = len(weights)\n",
    "    plt.title('Post: '+str(i)+' Particles: '+str(remainder))\n",
    "    mean = np.sum(cloud.transpose()*weights,1)\n",
    "    \n",
    "    plt.scatter(cloud[:,0],cloud[:,1],c=weights)\n",
    "    plt.plot(obs[i,0],obs[i,1],'rs')\n",
    "    plt.plot(mean[0],mean[1],'ys')\n",
    "    plt.axis([-1,2,-2,2])\n",
    "    plt.savefig('./figures/'+key+'b.png')\n",
    "    plt.close(temp)"
   ]
  },
  {
   "cell_type": "code",
   "execution_count": null,
   "metadata": {
    "collapsed": false
   },
   "outputs": [],
   "source": [
    "pickle.dump(pdf_series, save_file)\n",
    "save_file.close()"
   ]
  },
  {
   "cell_type": "code",
   "execution_count": null,
   "metadata": {
    "collapsed": false
   },
   "outputs": [],
   "source": [
    "position = pdf_series['A_0']['prior']\n",
    "weight =  pdf_series['A_0']['prior_weight']\n",
    "plot_data = []\n",
    "plot = open('plot_data.js','w+')"
   ]
  },
  {
   "cell_type": "code",
   "execution_count": null,
   "metadata": {
    "collapsed": false
   },
   "outputs": [],
   "source": [
    "x = 'x'\n",
    "y = 'y'\n",
    "z = 'z'\n",
    "w = 'value'\n",
    "for i in range(len(position[:,0])):\n",
    "    temp = position[i,:]\n",
    "    plot_data.append({x:temp[0],y:temp[1],z:temp[2],w:weight[i]})\n",
    "\n",
    "plot_str = json.dumps(plot_data,plot)\n",
    "plot_str = plot_str.replace('},','},\\n           ')\n",
    "plot_str = 'var data = ' + plot_str + ';'\n",
    "plot.write(plot_str)\n"
   ]
  },
  {
   "cell_type": "code",
   "execution_count": null,
   "metadata": {
    "collapsed": false
   },
   "outputs": [],
   "source": [
    "plot.close()\n",
    "pdf_series['A_7'].keys()"
   ]
  },
  {
   "cell_type": "code",
   "execution_count": null,
   "metadata": {
    "collapsed": false
   },
   "outputs": [],
   "source": [
    "trajectory = model([-1,-1],10000,1)\n",
    "trajectory = trajectory.squeeze()"
   ]
  },
  {
   "cell_type": "code",
   "execution_count": null,
   "metadata": {
    "collapsed": false
   },
   "outputs": [],
   "source": [
    "plt.plot(trajectory[5000:,0],trajectory[5000:,1],'b.')\n",
    "plt.show()"
   ]
  },
  {
   "cell_type": "code",
   "execution_count": null,
   "metadata": {
    "collapsed": false
   },
   "outputs": [],
   "source": [
    "np.shape(trajectory)"
   ]
  },
  {
   "cell_type": "code",
   "execution_count": null,
   "metadata": {
    "collapsed": false
   },
   "outputs": [],
   "source": [
    "weights.Normalize()"
   ]
  },
  {
   "cell_type": "code",
   "execution_count": 10,
   "metadata": {
    "collapsed": false
   },
   "outputs": [],
   "source": [
    "i = 0\n",
    "temp  = plt.figure()\n",
    "cloud = pdf_series[key]['post']\n",
    "# compute the mean of the posterior\n",
    "weights = pdf_series[key]['post_weight']\n",
    "remainder = len(weights)\n",
    "plt.title('Post: '+str(i)+' Particles: '+str(remainder))\n",
    "mean = np.sum(cloud.transpose()*weights,1)\n",
    "    \n",
    "plt.scatter(cloud[:,0],cloud[:,1],c=weights)\n",
    "plt.plot(obs[i,0],obs[i,1],'rs')\n",
    "plt.plot(mean[0],mean[1],'ys')\n",
    "plt.axis([-1,2,-2,2])\n",
    "plt.savefig('./figures/'+key+'b.png')\n",
    "plt.close(temp)"
   ]
  },
  {
   "cell_type": "code",
   "execution_count": null,
   "metadata": {
    "collapsed": true
   },
   "outputs": [],
   "source": []
  }
 ],
 "metadata": {
  "kernelspec": {
   "display_name": "Python 2",
   "language": "python",
   "name": "python2"
  },
  "language_info": {
   "codemirror_mode": {
    "name": "ipython",
    "version": 2
   },
   "file_extension": ".py",
   "mimetype": "text/x-python",
   "name": "python",
   "nbconvert_exporter": "python",
   "pygments_lexer": "ipython2",
   "version": "2.7.10"
  }
 },
 "nbformat": 4,
 "nbformat_minor": 0
}
