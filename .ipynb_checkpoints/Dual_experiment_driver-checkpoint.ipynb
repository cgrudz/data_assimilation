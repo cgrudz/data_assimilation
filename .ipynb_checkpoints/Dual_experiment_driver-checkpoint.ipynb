{
 "cells": [
  {
   "cell_type": "code",
   "execution_count": null,
   "metadata": {
    "collapsed": true
   },
   "outputs": [],
   "source": [
    "import numpy as np\n",
    "import pickle\n",
    "import random\n",
    "from ikeda_V import ikeda as model\n",
    "from scipy.integrate import odeint\n",
    "from bootstrap_unbiased_discrete import bootstrap as PF\n",
    "from generate_observations_discrete import gen_obs\n",
    "from distribution_plt import distribution_plt as plt"
   ]
  },
  {
   "cell_type": "code",
   "execution_count": null,
   "metadata": {
    "collapsed": true
   },
   "outputs": [],
   "source": [
    "## System Parameters\n",
    "\n",
    "# random seed\n",
    "random.seed()\n",
    "seed = random.getstate()\n",
    "\n",
    "# experiment name\n",
    "name ='e-10-thresh_mil_part'\n",
    "name = name + '.p'\n",
    "save_file = open(name,'wb')\n",
    "directory = './figures_e-10-thresh_mil_part/'\n",
    "\n",
    "# state dimension\n",
    "state_dim = 2\n",
    "\n",
    "# observation dimension\n",
    "obs_dim = 2\n",
    "\n",
    "# observation operator\n",
    "H = np.eye(state_dim)\n",
    "\n",
    "# Define the number of particles in the ensemble\n",
    "particle_number = 100\n",
    "\n",
    "# weight threshold\n",
    "thresh = 1e-10\n",
    "\n",
    "# Optional spin up step\n",
    "spin = False\n",
    "if spin:\n",
    "    # Spin time\n",
    "    spin_end = 1000\n",
    "\n",
    "# Obs Err variance (% of climate variance) \n",
    "obs_var = 0.1\n",
    "\n",
    "# prior covariance\n",
    "p_cov = np.eye(state_dim)*.1\n",
    "\n",
    "# Analysis performed after tanl steps\n",
    "tanl = 1\n",
    "\n",
    "# Number of Analyses (after the analysis at time zero)\n",
    "nanl = 250\n",
    "\n",
    "# Experiment length defined\n",
    "exp_len = tanl*nanl\n",
    "\n",
    "parameters = {'random_seed':seed, 'obs_var': obs_var, 'prior_cov':p_cov, 'w_threshold':thresh}"
   ]
  },
  {
   "cell_type": "code",
   "execution_count": null,
   "metadata": {
    "collapsed": true
   },
   "outputs": [],
   "source": [
    "## Initial conditions\n",
    "\n",
    "# Define the initial condition for the truth\n",
    "truth = np.array([.5,0])\n",
    "\n",
    "## generate first prior and observations\n",
    "\n",
    "# optionally spin up the trajectory for the truth\n",
    "# and produce the initial prior for this state\n",
    "\n",
    "if spin:\n",
    "    spun = model(np.ones(state_dim),spin_end,1)\n",
    "    spun = spun.squeeze()\n",
    "    truth = spun[:,-1]\n",
    "\n",
    "# define the prior by Gaussian with mean at the initial true state and specified covariance\n",
    "P = np.eye(2)*.1\n",
    "prior = np.random.multivariate_normal(truth,P,particle_number)\n",
    "    \n",
    "# propagate the truth for the length of the model, and return this trajector and the\n",
    "# noisy observations of the state\n",
    "[truth_traj,obs,Q] = gen_obs(model,truth,H,exp_len,nanl,tanl,obs_var)"
   ]
  },
  {
   "cell_type": "code",
   "execution_count": null,
   "metadata": {
    "collapsed": true
   },
   "outputs": [],
   "source": [
    "## particle filter step\n",
    "\n",
    "pdf_series = PF(model,state_dim,prior,particle_number,thresh,exp_len,nanl,tanl,obs,Q)"
   ]
  },
  {
   "cell_type": "code",
   "execution_count": null,
   "metadata": {
    "collapsed": true
   },
   "outputs": [],
   "source": []
  },
  {
   "cell_type": "code",
   "execution_count": null,
   "metadata": {
    "collapsed": true
   },
   "outputs": [],
   "source": [
    "## plot and pickle data\n",
    "\n",
    "#plot\n",
    "plt(pdf_series,thresh,obs,directory)\n",
    "\n",
    "experiment_data = {'pdf_series': pdf_series, 'observations': obs, 'parameters': parameters}\n",
    "\n",
    "#pickle data\n",
    "pickle.dump(experiment_data, save_file)\n",
    "save_file.close()"
   ]
  }
 ],
 "metadata": {
  "kernelspec": {
   "display_name": "Python 2",
   "language": "python",
   "name": "python2"
  },
  "language_info": {
   "codemirror_mode": {
    "name": "ipython",
    "version": 2
   },
   "file_extension": ".py",
   "mimetype": "text/x-python",
   "name": "python",
   "nbconvert_exporter": "python",
   "pygments_lexer": "ipython2",
   "version": "2.7.10"
  }
 },
 "nbformat": 4,
 "nbformat_minor": 0
}
