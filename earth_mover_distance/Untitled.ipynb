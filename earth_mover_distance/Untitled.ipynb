{
 "cells": [
  {
   "cell_type": "code",
   "execution_count": 4,
   "metadata": {
    "collapsed": true
   },
   "outputs": [],
   "source": [
    "from emd import emd\n",
    "import numpy as np\n",
    "\n",
    "def distance(X1, X2):\n",
    "    temp = np.array(X1) - np.array(X2)\n",
    "    return np.sqrt(temp.dot(temp))"
   ]
  },
  {
   "cell_type": "code",
   "execution_count": 18,
   "metadata": {
    "collapsed": false
   },
   "outputs": [],
   "source": [
    "prior_p = np.array([[1,1],[2,2],[1,2]])\n",
    "prior_w = np.array([1.0/3.0,1.0/3.0,1.0/3.0])\n",
    "\n",
    "prior = (prior_p.tolist(),prior_w.tolist())\n",
    "\n",
    "post_p = np.array([[1,1],[2,2],[1,2]])\n",
    "post_w = np.array([0.2,0.2,0.6])\n",
    "\n",
    "post = (post_p.tolist(),post_w.tolist())"
   ]
  },
  {
   "cell_type": "code",
   "execution_count": 19,
   "metadata": {
    "collapsed": false
   },
   "outputs": [],
   "source": [
    "dist = emd(prior,post,distance)"
   ]
  },
  {
   "cell_type": "code",
   "execution_count": 20,
   "metadata": {
    "collapsed": false
   },
   "outputs": [
    {
     "data": {
      "text/plain": [
       "0.2666666805744171"
      ]
     },
     "execution_count": 20,
     "metadata": {},
     "output_type": "execute_result"
    }
   ],
   "source": [
    "dist"
   ]
  },
  {
   "cell_type": "code",
   "execution_count": null,
   "metadata": {
    "collapsed": true
   },
   "outputs": [],
   "source": []
  }
 ],
 "metadata": {
  "kernelspec": {
   "display_name": "Python 2",
   "language": "python",
   "name": "python2"
  },
  "language_info": {
   "codemirror_mode": {
    "name": "ipython",
    "version": 2
   },
   "file_extension": ".py",
   "mimetype": "text/x-python",
   "name": "python",
   "nbconvert_exporter": "python",
   "pygments_lexer": "ipython2",
   "version": "2.7.10"
  }
 },
 "nbformat": 4,
 "nbformat_minor": 0
}
