{
 "cells": [
  {
   "cell_type": "code",
   "execution_count": 1,
   "metadata": {
    "collapsed": false
   },
   "outputs": [],
   "source": [
    "import numpy as np\n",
    "import pickle\n",
    "import random\n",
    "from ikeda_V import ikeda as model\n",
    "from no_resample_discrete_filter import NRS_filter as NRS\n",
    "from SIR_discrete_filter import SIR_filter as SIR\n",
    "from EnKF_discrete_filter import EnKF_filter as EnKF\n",
    "from generate_observations_discrete import gen_obs\n",
    "import distribution_plts as D_plts"
   ]
  },
  {
   "cell_type": "code",
   "execution_count": 2,
   "metadata": {
    "collapsed": false
   },
   "outputs": [],
   "source": [
    "## System Parameters\n",
    "\n",
    "# Define the number of particles in the ensemble\n",
    "particle_number = int(1e3)\n",
    "\n",
    "# set random seeds for observations and initializations of priors etc.\n",
    "random.seed()\n",
    "obs_seed = random.getstate()\n",
    "\n",
    "random.setstate(obs_seed)\n",
    "random.jumpahead(1000)\n",
    "seed_1 = random.getstate()\n",
    "random.setstate(obs_seed)\n",
    "random.jumpahead(10000)\n",
    "seed_2 = random.getstate()\n",
    "\n",
    "# experiment name\n",
    "name = 'dual_experiment_' + str(particle_number) + '_part' \n",
    "exp_name = name + '.p'\n",
    "save_file = open('./experiments/' + exp_name,'wb')\n",
    "directory = './experiments/' + name + '/'\n",
    "\n",
    "# state dimension\n",
    "state_dim = 2\n",
    "\n",
    "# observation dimension\n",
    "obs_dim = 2\n",
    "\n",
    "# observation operator\n",
    "H = np.eye(state_dim)\n",
    "\n",
    "# weight threshold\n",
    "W_thresh = 1e-10\n",
    "# Neff threshold\n",
    "N_thresh = .3*float(particle_number)\n",
    "# resampler tuning parameter\n",
    "tuning = .05\n",
    "\n",
    "# Obs Err variance (% of climate variance) \n",
    "obs_var = 0.1\n",
    "\n",
    "# prior covariance\n",
    "p_cov = np.eye(state_dim)*.1\n",
    "\n",
    "# Analysis performed after tanl steps\n",
    "tanl = 1\n",
    "\n",
    "# Number of Analyses (after the analysis at time zero)\n",
    "nanl = 50\n",
    "\n",
    "# Experiment length defined\n",
    "exp_len = tanl*nanl\n",
    "\n",
    "parameters = {'obs_seed':obs_seed, 'obs_var': obs_var, 'seed_1':seed_1, 'seed_2': seed_2, \n",
    "              'prior_cov':p_cov, 'W_threshold':W_thresh,\n",
    "              'N_thresh':N_thresh,'tuning':tuning}\n",
    "             "
   ]
  },
  {
   "cell_type": "code",
   "execution_count": 3,
   "metadata": {
    "collapsed": false
   },
   "outputs": [
    {
     "name": "stdout",
     "output_type": "stream",
     "text": [
      "0.0346180891113\n"
     ]
    }
   ],
   "source": [
    "## Initial conditions\n",
    "\n",
    "# Define the initial condition for the truth\n",
    "truth = np.array([.5,0])\n",
    "\n",
    "# propagate the truth for the length of the model, and return this trajector and the\n",
    "# noisy observations of the state\n",
    "random.setstate(obs_seed)\n",
    "[truth_traj,obs,Q,R] = gen_obs(model,truth,H,exp_len,nanl,tanl,obs_var)\n",
    "\n",
    "# define the priors by Gaussian with mean at the initial true state and specified covariance\n",
    "P = np.eye(2)*.1\n",
    "\n",
    "random.setstate(seed_1)\n",
    "prior_1 = np.random.multivariate_normal(truth,P,particle_number)\n",
    "    \n",
    "\n",
    "random.setstate(seed_2)\n",
    "prior_2 = np.random.multivariate_normal(truth,P,particle_number)\n",
    "\n",
    "# check the priors for consistency\n",
    "mean_1 = np.mean(prior_1,axis=0)\n",
    "mean_2 = np.mean(prior_2,axis=0)\n",
    "\n",
    "prior_mean_diff = mean_1 - mean_2\n",
    "prior_mean_diff = np.sqrt(prior_mean_diff.dot(prior_mean_diff))\n",
    "\n",
    "print(prior_mean_diff)"
   ]
  },
  {
   "cell_type": "code",
   "execution_count": null,
   "metadata": {
    "collapsed": false
   },
   "outputs": [],
   "source": [
    "## No resample particle filter step\n",
    "\n",
    "# Note that aside from the prior, there is no other randomness in this run\n",
    "\n",
    "# initialize the filter with prior from seed 1\n",
    "NRS_pdf_series_1 = NRS(model,prior_1,state_dim,particle_number,nanl,tanl,obs,Q,W_thresh)\n",
    "\n",
    "# initialize the filter with prior from seed 2\n",
    "NRS_pdf_series_2 = NRS(model,prior_2,state_dim,particle_number,nanl,tanl,obs,Q,W_thresh)"
   ]
  },
  {
   "cell_type": "code",
   "execution_count": null,
   "metadata": {
    "collapsed": false
   },
   "outputs": [],
   "source": [
    "## SIR filter step\n",
    "\n",
    "# initialize the filter with seed 1\n",
    "random.setstate(seed_1)\n",
    "SIR_pdf_series_1 = SIR(model,prior_1,state_dim,particle_number,nanl,tanl,obs,Q,N_thresh,tuning)\n",
    "\n",
    "# initialize the filter with seed 2\n",
    "random.setstate(seed_2)\n",
    "SIR_pdf_series_2 = SIR(model,prior_2,state_dim,particle_number,nanl,tanl,obs,Q,N_thresh,tuning)"
   ]
  },
  {
   "cell_type": "code",
   "execution_count": 4,
   "metadata": {
    "collapsed": false
   },
   "outputs": [
    {
     "name": "stdout",
     "output_type": "stream",
     "text": [
      "Automatic pdb calling has been turned ON\n"
     ]
    }
   ],
   "source": [
    "## EnKF step\n",
    "%pdb\n",
    "\n",
    "# initialize the filter with seed 1\n",
    "random.setstate(seed_1)\n",
    "EnKF_pdf_series_1 = EnKF(model,prior_1,state_dim,particle_number,nanl,tanl,obs,R)\n",
    "\n",
    "# initialize the filter with seed 2\n",
    "random.setstate(seed_2)\n",
    "EnKF_pdf_series_2 = EnKF(model,prior_2,state_dim,particle_number,nanl,tanl,obs,R)"
   ]
  },
  {
   "cell_type": "code",
   "execution_count": 5,
   "metadata": {
    "collapsed": false
   },
   "outputs": [
    {
     "ename": "NameError",
     "evalue": "name 'SIR_pdf_series_1' is not defined",
     "output_type": "error",
     "traceback": [
      "\u001b[1;31m---------------------------------------------------------------------------\u001b[0m",
      "\u001b[1;31mNameError\u001b[0m                                 Traceback (most recent call last)",
      "\u001b[1;32m<ipython-input-5-a153dbd193d1>\u001b[0m in \u001b[0;36m<module>\u001b[1;34m()\u001b[0m\n\u001b[0;32m     13\u001b[0m \u001b[1;31m#D_plts.plt_SIR(SIR_pdf_series_2,obs,directory,2)\u001b[0m\u001b[1;33m\u001b[0m\u001b[1;33m\u001b[0m\u001b[0m\n\u001b[0;32m     14\u001b[0m \u001b[1;33m\u001b[0m\u001b[0m\n\u001b[1;32m---> 15\u001b[1;33m experiment_data = {'SIR_pdf_series_1': SIR_pdf_series_1, 'SIR_pdf_series_2': SIR_pdf_series_2,\n\u001b[0m\u001b[0;32m     16\u001b[0m                    \u001b[1;34m'NRS_pdf_series_1'\u001b[0m\u001b[1;33m:\u001b[0m \u001b[0mNRS_pdf_series_1\u001b[0m\u001b[1;33m,\u001b[0m \u001b[1;34m'NRS_pdf_series_2'\u001b[0m\u001b[1;33m:\u001b[0m \u001b[0mNRS_pdf_series_2\u001b[0m\u001b[1;33m,\u001b[0m\u001b[1;33m\u001b[0m\u001b[0m\n\u001b[0;32m     17\u001b[0m                    'observations': obs, 'parameters': parameters}\n",
      "\u001b[1;31mNameError\u001b[0m: name 'SIR_pdf_series_1' is not defined"
     ]
    },
    {
     "name": "stdout",
     "output_type": "stream",
     "text": [
      "> \u001b[1;32m<ipython-input-5-a153dbd193d1>\u001b[0m(15)\u001b[0;36m<module>\u001b[1;34m()\u001b[0m\n",
      "\u001b[1;32m     14 \u001b[1;33m\u001b[1;33m\u001b[0m\u001b[0m\n",
      "\u001b[0m\u001b[1;32m---> 15 \u001b[1;33mexperiment_data = {'SIR_pdf_series_1': SIR_pdf_series_1, 'SIR_pdf_series_2': SIR_pdf_series_2,\n",
      "\u001b[0m\u001b[1;32m     16 \u001b[1;33m                   \u001b[1;34m'NRS_pdf_series_1'\u001b[0m\u001b[1;33m:\u001b[0m \u001b[0mNRS_pdf_series_1\u001b[0m\u001b[1;33m,\u001b[0m \u001b[1;34m'NRS_pdf_series_2'\u001b[0m\u001b[1;33m:\u001b[0m \u001b[0mNRS_pdf_series_2\u001b[0m\u001b[1;33m,\u001b[0m\u001b[1;33m\u001b[0m\u001b[0m\n",
      "\u001b[0m\n",
      "ipdb> q\n"
     ]
    }
   ],
   "source": [
    "## plot and pickle data\n",
    "\n",
    "# plot EnKF runs\n",
    "D_plts.plt_EnKF(EnKF_pdf_series_1,particle_number,obs,directory,1)\n",
    "D_plts.plt_EnKF(EnKF_pdf_series_2,particle_number,obs,directory,2)\n",
    "\n",
    "# plot the no resample runs\n",
    "#D_plts.plt_NRS(NRS_pdf_series_1,obs,directory,1)\n",
    "#D_plts.plt_NRS(NRS_pdf_series_2,obs,directory,2)\n",
    "\n",
    "# plot the SIR runs\n",
    "#D_plts.plt_SIR(SIR_pdf_series_1,obs,directory,1)\n",
    "#D_plts.plt_SIR(SIR_pdf_series_2,obs,directory,2)\n",
    "\n",
    "experiment_data = {'SIR_pdf_series_1': SIR_pdf_series_1, 'SIR_pdf_series_2': SIR_pdf_series_2,\n",
    "                   'NRS_pdf_series_1': NRS_pdf_series_1, 'NRS_pdf_series_2': NRS_pdf_series_2,\n",
    "                   'observations': obs, 'parameters': parameters}\n",
    "\n",
    "\n",
    "#pickle data\n",
    "pickle.dump(experiment_data, save_file)\n",
    "save_file.close()"
   ]
  },
  {
   "cell_type": "code",
   "execution_count": null,
   "metadata": {
    "collapsed": true
   },
   "outputs": [],
   "source": []
  }
 ],
 "metadata": {
  "kernelspec": {
   "display_name": "Python 2",
   "language": "python",
   "name": "python2"
  },
  "language_info": {
   "codemirror_mode": {
    "name": "ipython",
    "version": 2
   },
   "file_extension": ".py",
   "mimetype": "text/x-python",
   "name": "python",
   "nbconvert_exporter": "python",
   "pygments_lexer": "ipython2",
   "version": "2.7.10"
  }
 },
 "nbformat": 4,
 "nbformat_minor": 0
}
