{
 "cells": [
  {
   "cell_type": "code",
   "execution_count": 1,
   "metadata": {
    "collapsed": true
   },
   "outputs": [],
   "source": [
    "import numpy as np\n",
    "import pickle\n",
    "from L63_V import L63 as model\n",
    "from gauss_initialize import gauss_initialize as spin_up\n",
    "from scipy.integrate import odeint\n",
    "from bootstrap_unbiased import bootstrap as PF\n",
    "from generate_observations import gen_obs"
   ]
  },
  {
   "cell_type": "code",
   "execution_count": 2,
   "metadata": {
    "collapsed": true
   },
   "outputs": [],
   "source": [
    "## System Parameters\n",
    "\n",
    "# experiment name\n",
    "name ='test_run'\n",
    "name = name + '.p'\n",
    "save_file = open(name,'wb')\n",
    "\n",
    "# state dimension\n",
    "state_dim = 3\n",
    "\n",
    "# observation dimension\n",
    "obs_dim = 3\n",
    "\n",
    "# observation operator\n",
    "H = np.eye(state_dim)\n",
    "\n",
    "# Define the number of particles in the ensemble\n",
    "particle_number = 50\n",
    "\n",
    "# Spin time\n",
    "spin_end = 1000\n",
    "\n",
    "# Time step\n",
    "dt = .01\n",
    "\n",
    "# Spin interval\n",
    "spin = np.linspace(0,spin_end,spin_end/dt)\n",
    "\n",
    "# Obs Err variance (% of climate variance) \n",
    "obs_var = 0.01\n",
    "\n",
    "# prior covariance\n",
    "p_cov = np.eye(state_dim)*.5\n",
    "\n",
    "# Analysis performed after tanl steps\n",
    "tanl = 10\n",
    "\n",
    "# Number of Analyses (after the analysis at time zero)\n",
    "nanl = 100\n",
    "\n",
    "# Experiment length defined\n",
    "exp_len = tanl*nanl\n",
    "\n",
    "# Interval of integration including time zero\n",
    "exp_int = np.linspace(0,exp_len*dt,exp_len+1)"
   ]
  },
  {
   "cell_type": "code",
   "execution_count": 3,
   "metadata": {
    "collapsed": false
   },
   "outputs": [],
   "source": [
    "## generate first prior and observations\n",
    "\n",
    "# generate trajectory on the attractor for the truth\n",
    "# and produce the initial prior for this state\n",
    "[truth,prior] = spin_up(model,state_dim,particle_number,spin,dt,p_cov,obs_var)\n",
    "\n",
    "# integrate the truth for the length of the model, and return this trajector and the\n",
    "# noisy observations of the state\n",
    "[truth_traj,obs,Q] = gen_obs(model,truth,H,exp_int,nanl,tanl,obs_var)"
   ]
  },
  {
   "cell_type": "code",
   "execution_count": 4,
   "metadata": {
    "collapsed": false
   },
   "outputs": [],
   "source": [
    "## particle filter step\n",
    "\n",
    "pdf_series = PF(model,state_dim,prior,particle_number,exp_int,nanl,tanl,obs,Q)"
   ]
  },
  {
   "cell_type": "code",
   "execution_count": 5,
   "metadata": {
    "collapsed": false
   },
   "outputs": [],
   "source": [
    "pickle.dump(pdf_series, save_file)\n",
    "save_file.close()"
   ]
  }
 ],
 "metadata": {
  "kernelspec": {
   "display_name": "Python 2",
   "language": "python",
   "name": "python2"
  },
  "language_info": {
   "codemirror_mode": {
    "name": "ipython",
    "version": 2
   },
   "file_extension": ".py",
   "mimetype": "text/x-python",
   "name": "python",
   "nbconvert_exporter": "python",
   "pygments_lexer": "ipython2",
   "version": "2.7.10"
  }
 },
 "nbformat": 4,
 "nbformat_minor": 0
}
