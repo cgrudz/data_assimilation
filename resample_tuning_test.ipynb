{
 "cells": [
  {
   "cell_type": "code",
   "execution_count": 1,
   "metadata": {
    "collapsed": true
   },
   "outputs": [],
   "source": [
    "import numpy as np\n",
    "from resample_systematic import resample_systematic as RS\n",
    "from pylab import find\n",
    "import pickle\n",
    "import random\n",
    "import matplotlib.pyplot as plt"
   ]
  },
  {
   "cell_type": "code",
   "execution_count": 2,
   "metadata": {
    "collapsed": false
   },
   "outputs": [],
   "source": [
    "# Determine the parameters\n",
    "\n",
    "# plotting directory\n",
    "directory = './experiments/dual_experiment_1000_part/SIR_filter/tuning_resampling/'\n",
    "\n",
    "# determine the tuning parameters to check\n",
    "params = np.linspace(0,.04,1000)\n",
    "\n",
    "# set random seeds for observations and initializations of priors etc.\n",
    "random.seed()\n",
    "pert_seed = random.getstate()"
   ]
  },
  {
   "cell_type": "code",
   "execution_count": 3,
   "metadata": {
    "collapsed": true
   },
   "outputs": [],
   "source": [
    "# load the distribution data\n",
    "exp = pickle.load(open('./experiments/dual_experiment_1000_part.p'))\n",
    "\n",
    "prior = exp['SIR_pdf_series_1']['A_17']['prior']\n",
    "prior_weight = exp['SIR_pdf_series_1']['A_17']['prior_weight']\n",
    "ens_size = len(prior_weight)\n",
    "\n",
    "cov = np.cov(prior.transpose())"
   ]
  },
  {
   "cell_type": "code",
   "execution_count": 4,
   "metadata": {
    "collapsed": false
   },
   "outputs": [],
   "source": [
    "# resample the particles based on the weight\n",
    "resampled = RS(prior_weight)\n",
    "posterior = prior[resampled.astype(int),:]\n",
    "post_storage = {}\n",
    "count = 0"
   ]
  },
  {
   "cell_type": "code",
   "execution_count": 5,
   "metadata": {
    "collapsed": false
   },
   "outputs": [],
   "source": [
    "def plt_SIR(post,directory,key):\n",
    "    # plotting function for the resampled cloud\n",
    "    temp = plt.figure()\n",
    "    plt.plot(post[:,0],post[:,1],'b,')\n",
    "    plt.title('Covariance Tuning: '+key[1:])\n",
    "    plt.savefig(directory+key+'.png')\n",
    "    plt.close(temp)"
   ]
  },
  {
   "cell_type": "code",
   "execution_count": 6,
   "metadata": {
    "collapsed": false
   },
   "outputs": [],
   "source": [
    "for i in params:\n",
    "\n",
    "    key = 't'+str(count)\n",
    "    random.setstate(pert_seed)\n",
    "    post_storage[key] = posterior + np.random.multivariate_normal([0,0],i*cov,ens_size)\n",
    "    plt_SIR(post_storage[key],directory,str(i))\n",
    "    count = count + 1"
   ]
  },
  {
   "cell_type": "code",
   "execution_count": null,
   "metadata": {
    "collapsed": true
   },
   "outputs": [],
   "source": []
  }
 ],
 "metadata": {
  "kernelspec": {
   "display_name": "Python 2",
   "language": "python",
   "name": "python2"
  },
  "language_info": {
   "codemirror_mode": {
    "name": "ipython",
    "version": 2
   },
   "file_extension": ".py",
   "mimetype": "text/x-python",
   "name": "python",
   "nbconvert_exporter": "python",
   "pygments_lexer": "ipython2",
   "version": "2.7.10"
  }
 },
 "nbformat": 4,
 "nbformat_minor": 0
}
