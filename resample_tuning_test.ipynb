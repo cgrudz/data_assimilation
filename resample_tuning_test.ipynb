{
 "cells": [
  {
   "cell_type": "code",
   "execution_count": 1,
   "metadata": {
    "collapsed": false
   },
   "outputs": [
    {
     "ename": "ImportError",
     "evalue": "No module named emd",
     "output_type": "error",
     "traceback": [
      "\u001b[1;31m---------------------------------------------------------------------------\u001b[0m",
      "\u001b[1;31mImportError\u001b[0m                               Traceback (most recent call last)",
      "\u001b[1;32m<ipython-input-1-a8569217e40f>\u001b[0m in \u001b[0;36m<module>\u001b[1;34m()\u001b[0m\n\u001b[0;32m      1\u001b[0m \u001b[1;32mimport\u001b[0m \u001b[0mnumpy\u001b[0m \u001b[1;32mas\u001b[0m \u001b[0mnp\u001b[0m\u001b[1;33m\u001b[0m\u001b[0m\n\u001b[1;32m----> 2\u001b[1;33m \u001b[1;32mfrom\u001b[0m \u001b[0memd\u001b[0m \u001b[1;32mimport\u001b[0m \u001b[0memd\u001b[0m\u001b[1;33m\u001b[0m\u001b[0m\n\u001b[0m\u001b[0;32m      3\u001b[0m \u001b[1;32mfrom\u001b[0m \u001b[0mresample_systematic\u001b[0m \u001b[1;32mimport\u001b[0m \u001b[0mresample_systematic\u001b[0m \u001b[1;32mas\u001b[0m \u001b[0mRS\u001b[0m\u001b[1;33m\u001b[0m\u001b[0m\n\u001b[0;32m      4\u001b[0m \u001b[1;32mfrom\u001b[0m \u001b[0mpylab\u001b[0m \u001b[1;32mimport\u001b[0m \u001b[0mfind\u001b[0m\u001b[1;33m\u001b[0m\u001b[0m\n\u001b[0;32m      5\u001b[0m \u001b[1;32mimport\u001b[0m \u001b[0mpickle\u001b[0m\u001b[1;33m\u001b[0m\u001b[0m\n",
      "\u001b[1;31mImportError\u001b[0m: No module named emd"
     ]
    }
   ],
   "source": [
    "import numpy as np\n",
    "from emd import emd\n",
    "from resample_systematic import resample_systematic as RS\n",
    "from pylab import find\n",
    "import pickle\n",
    "import random\n",
    "import matplotlib.pyplot as plt"
   ]
  },
  {
   "cell_type": "code",
   "execution_count": null,
   "metadata": {
    "collapsed": false
   },
   "outputs": [],
   "source": [
    "# Determine the parameters\n",
    "\n",
    "# plotting directory\n",
    "directory = './experiments/dual_experiment_1000_part/SIR_filter/tuning_resampling/'\n",
    "\n",
    "# number of steps\n",
    "steps = 1000\n",
    "\n",
    "# determine the tuning parameters to check\n",
    "params = np.linspace(0,.04,steps)\n",
    "\n",
    "# set random seeds for observations and initializations of priors etc.\n",
    "random.seed()\n",
    "pert_seed = random.getstate()"
   ]
  },
  {
   "cell_type": "code",
   "execution_count": null,
   "metadata": {
    "collapsed": true
   },
   "outputs": [],
   "source": [
    "# load the distribution data\n",
    "exp = pickle.load(open('./experiments/dual_experiment_1000_part.p'))\n",
    "\n",
    "prior = exp['SIR_pdf_series_1']['A_17']['prior']\n",
    "prior_weight = exp['SIR_pdf_series_1']['A_17']['prior_weight']\n",
    "ens_size = len(prior_weight)\n",
    "\n",
    "cov = np.cov(prior.transpose())"
   ]
  },
  {
   "cell_type": "code",
   "execution_count": null,
   "metadata": {
    "collapsed": false
   },
   "outputs": [],
   "source": [
    "# resample the particles based on the weight\n",
    "resampled = RS(prior_weight)\n",
    "posterior = prior[resampled.astype(int),:]\n",
    "post_storage = {}\n",
    "count = 0\n",
    "post_dist = np.ones(steps)\n",
    "post_dist"
   ]
  },
  {
   "cell_type": "code",
   "execution_count": null,
   "metadata": {
    "collapsed": false
   },
   "outputs": [],
   "source": [
    "def plt_SIR(post,directory,key):\n",
    "    # plotting function for the resampled cloud\n",
    "    temp = plt.figure()\n",
    "    plt.plot(post[:,0],post[:,1],'b,')\n",
    "    plt.title('Covariance Tuning: '+key[1:])\n",
    "    plt.savefig(directory+key+'.png')\n",
    "    plt.close(temp)\n",
    "    \n",
    "def dist(X1,X2):\n",
    "    temp = np.array(X1) - np.array(X2)\n",
    "    return np.sqrt(temp.dot(temp))"
   ]
  },
  {
   "cell_type": "code",
   "execution_count": null,
   "metadata": {
    "collapsed": false
   },
   "outputs": [],
   "source": [
    "for i in params:\n",
    "\n",
    "    key = 't'+str(count)\n",
    "    random.setstate(pert_seed)\n",
    "    post_storage[key] = posterior + np.random.multivariate_normal([0,0],i*cov,ens_size)\n",
    "    plt_SIR(post_storage[key],directory,str(i))\n",
    "    count = count + 1"
   ]
  },
  {
   "cell_type": "code",
   "execution_count": null,
   "metadata": {
    "collapsed": true
   },
   "outputs": [],
   "source": []
  }
 ],
 "metadata": {
  "kernelspec": {
   "display_name": "Python 2",
   "language": "python",
   "name": "python2"
  },
  "language_info": {
   "codemirror_mode": {
    "name": "ipython",
    "version": 2
   },
   "file_extension": ".py",
   "mimetype": "text/x-python",
   "name": "python",
   "nbconvert_exporter": "python",
   "pygments_lexer": "ipython2",
   "version": "2.7.10"
  }
 },
 "nbformat": 4,
 "nbformat_minor": 0
}
